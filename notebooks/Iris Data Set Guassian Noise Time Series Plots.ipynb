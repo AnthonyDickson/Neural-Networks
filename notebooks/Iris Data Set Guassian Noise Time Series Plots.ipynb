{
 "cells": [
  {
   "cell_type": "code",
   "execution_count": 1,
   "metadata": {},
   "outputs": [],
   "source": [
    "import os\n",
    "import re\n",
    "\n",
    "import matplotlib.pyplot as plt\n",
    "import numpy as np\n",
    "import pandas as pd"
   ]
  },
  {
   "cell_type": "code",
   "execution_count": 2,
   "metadata": {},
   "outputs": [
    {
     "data": {
      "text/plain": [
       "'/home/anthony/420/notebooks'"
      ]
     },
     "execution_count": 2,
     "metadata": {},
     "output_type": "execute_result"
    }
   ],
   "source": [
    "os.getcwd()"
   ]
  },
  {
   "cell_type": "code",
   "execution_count": 3,
   "metadata": {},
   "outputs": [],
   "source": [
    "def iris_filter(dir_name):\n",
    "    if dir_name.startswith('dataset'):\n",
    "        return dir_name.endswith('=iris')\n",
    "    else:\n",
    "        return True\n",
    "    \n",
    "def noise_0_filter(dir_name):\n",
    "    if dir_name.startswith('gaussian_noise'):\n",
    "        return dir_name.endswith('=0')\n",
    "    else:\n",
    "        return True\n",
    "    \n",
    "def noise_0_01_filter(dir_name):\n",
    "    if dir_name.startswith('gaussian_noise'):\n",
    "        return dir_name.endswith('=0.01')\n",
    "    else:\n",
    "        return True\n",
    "    \n",
    "def noise_0_1_filter(dir_name):\n",
    "    if dir_name.startswith('gaussian_noise'):\n",
    "        return dir_name.endswith('=0.1')\n",
    "    else:\n",
    "        return True"
   ]
  },
  {
   "cell_type": "code",
   "execution_count": 4,
   "metadata": {},
   "outputs": [],
   "source": [
    "def get_summary_data(noise_filter):\n",
    "    n_processed = 0\n",
    "    output_array = np.array([])\n",
    "\n",
    "    for path, dirs, files in os.walk('../results'):\n",
    "        dirs[:] = list(filter(iris_filter, dirs))\n",
    "        dirs[:] = list(filter(noise_filter, dirs))\n",
    "\n",
    "        if len(dirs) == 0: # Leaf dir\n",
    "            val_loss = np.load(path + '/val_loss.npy')\n",
    "\n",
    "            if len(output_array) > 0:\n",
    "                output_array = np.vstack([output_array, val_loss])    \n",
    "            else:\n",
    "                output_array = val_loss\n",
    "\n",
    "            n_processed += 1\n",
    "\n",
    "            print('\\rProcessed %d items...' % n_processed, end='')\n",
    "\n",
    "    print()\n",
    "    \n",
    "    output_array[(output_array == np.inf) | (output_array == -np.inf)] = np.nan\n",
    "    \n",
    "    summaries = dict()\n",
    "    \n",
    "    lower_quartile, median, upper_quartile = np.nanpercentile(output_array, [25, 50, 75], axis=0)\n",
    "    \n",
    "    summaries['median'] = median\n",
    "    summaries['quartiles'] = {\n",
    "        'lower': lower_quartile,\n",
    "        'upper': upper_quartile\n",
    "    }\n",
    "    \n",
    "    output_array = np.ma.masked_invalid(output_array)\n",
    "    summaries['min'] = output_array.min(axis=0)\n",
    "    summaries['max'] = output_array.max(axis=0)\n",
    "    \n",
    "    summaries['mean'] = output_array.mean(axis=0)\n",
    "    summaries['std'] = output_array.std(axis=0)\n",
    "    \n",
    "    return summaries"
   ]
  },
  {
   "cell_type": "code",
   "execution_count": 5,
   "metadata": {},
   "outputs": [],
   "source": [
    "noise_val_loss = dict()"
   ]
  },
  {
   "cell_type": "code",
   "execution_count": 6,
   "metadata": {},
   "outputs": [
    {
     "name": "stdout",
     "output_type": "stream",
     "text": [
      "Processed 432 items...\n",
      "Processed 432 items...\n",
      "Processed 432 items...\n",
      "CPU times: user 16min 46s, sys: 8min 47s, total: 25min 34s\n",
      "Wall time: 5min 10s\n"
     ]
    }
   ],
   "source": [
    "%%time\n",
    "\n",
    "noise_val_loss['0'] = get_summary_data(noise_0_filter)\n",
    "noise_val_loss['0.01'] = get_summary_data(noise_0_01_filter)\n",
    "noise_val_loss['0.1'] = get_summary_data(noise_0_1_filter)"
   ]
  },
  {
   "cell_type": "code",
   "execution_count": 7,
   "metadata": {},
   "outputs": [
    {
     "data": {
      "text/plain": [
       "{'median': array([1.11591467, 1.08208798, 1.05147066, ..., 0.28455638, 0.28455353,\n",
       "        0.28455068]),\n",
       " 'quartiles': {'lower': array([0.68028997, 0.61813384, 0.57169415, ..., 0.14934902, 0.14934753,\n",
       "         0.14934604]),\n",
       "  'upper': array([1.35002973, 1.28738152, 1.24792592, ..., 0.36094607, 0.36091851,\n",
       "         0.36088554])},\n",
       " 'min': masked_array(data=[0.22799438876295328, 0.05279949036531909,\n",
       "                    0.11964493365160145, ..., 0.026519089786054374,\n",
       "                    0.02651878020601559, 0.026518470715571108],\n",
       "              mask=[False, False, False, ..., False, False, False],\n",
       "        fill_value=1e+20),\n",
       " 'max': masked_array(data=[34.383646960594966, 1.3537150983662278e+16,\n",
       "                    5.03623949471246e+68, ..., 1.1238183258199128,\n",
       "                    1.1238161405469909, 1.1238139554408546],\n",
       "              mask=[False, False, False, ..., False, False, False],\n",
       "        fill_value=1e+20),\n",
       " 'mean': masked_array(data=[1.1690744658839824, 786860670989.0496,\n",
       "                    2.93795326957908e+64, ..., 0.3142028627270445,\n",
       "                    0.31419246874236656, 0.3141821491221263],\n",
       "              mask=[False, False, False, ..., False, False, False],\n",
       "        fill_value=1e+20),\n",
       " 'std': masked_array(data=[0.9816883929512298, 103204808785985.42,\n",
       "                    3.846475416914203e+66, ..., 0.2287105840755125,\n",
       "                    0.22870509212227338, 0.2286993156073565],\n",
       "              mask=[False, False, False, ..., False, False, False],\n",
       "        fill_value=1e+20)}"
      ]
     },
     "execution_count": 7,
     "metadata": {},
     "output_type": "execute_result"
    }
   ],
   "source": [
    "noise_val_loss['0']"
   ]
  },
  {
   "cell_type": "code",
   "execution_count": 24,
   "metadata": {},
   "outputs": [
    {
     "data": {
      "image/png": "[encoded data removed]",
      "text/plain": [
       "<Figure size 432x288 with 1 Axes>"
      ]
     },
     "metadata": {
      "needs_background": "light"
     },
     "output_type": "display_data"
    }
   ],
   "source": [
    "for noise_std in noise_val_loss.keys():\n",
    "    y = noise_val_loss[noise_std]['median']       \n",
    "    plt.plot(y, label='$\\sigma=%s$' % noise_std)\n",
    "\n",
    "plt.title('Validation Loss for Models Trained on the Iris Data Set\\nby Amount of Gaussian Noise Added to Inputs')\n",
    "plt.xlabel('Epoch')\n",
    "plt.ylabel('Validation Loss')\n",
    "plt.legend(title='Noise $\\sigma$')\n",
    "\n",
    "plt.savefig('plots/validation_loss_by_amount_of_gaussian_noise.png', bbox_inches='tight')"
   ]
  }
 ],
 "metadata": {
  "kernelspec": {
   "display_name": "Python 3",
   "language": "python",
   "name": "python3"
  },
  "language_info": {
   "codemirror_mode": {
    "name": "ipython",
    "version": 3
   },
   "file_extension": ".py",
   "mimetype": "text/x-python",
   "name": "python",
   "nbconvert_exporter": "python",
   "pygments_lexer": "ipython3",
   "version": "3.7.2"
  }
 },
 "nbformat": 4,
 "nbformat_minor": 2
}
