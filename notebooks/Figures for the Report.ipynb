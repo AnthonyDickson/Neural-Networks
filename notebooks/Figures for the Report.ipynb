{
 "cells": [
  {
   "cell_type": "code",
   "execution_count": 6,
   "metadata": {},
   "outputs": [],
   "source": [
    "import os\n",
    "\n",
    "import matplotlib.pyplot as plt\n",
    "import numpy as np\n",
    "import pandas as pd\n",
    "\n",
    "from utils import *"
   ]
  },
  {
   "cell_type": "code",
   "execution_count": 7,
   "metadata": {},
   "outputs": [
    {
     "data": {
      "text/plain": [
       "'/home/anthony/420/notebooks'"
      ]
     },
     "execution_count": 7,
     "metadata": {},
     "output_type": "execute_result"
    }
   ],
   "source": [
    "os.getcwd()"
   ]
  },
  {
   "cell_type": "code",
   "execution_count": 8,
   "metadata": {},
   "outputs": [],
   "source": [
    "os.makedirs('plots', exist_ok=True)"
   ]
  },
  {
   "cell_type": "code",
   "execution_count": 2,
   "metadata": {},
   "outputs": [
    {
     "name": "stdout",
     "output_type": "stream",
     "text": [
      "<class 'pandas.core.frame.DataFrame'>\n",
      "Index: 4536 entries, ce2406bc88ceda4e2fde96bf96fdd2d5 to 9591fefef4086cbf060bc6afdcee4eba\n",
      "Columns: 225 entries, activation_func to std_n_epochs\n",
      "dtypes: bool(1), float64(219), int64(2), object(3)\n",
      "memory usage: 7.8+ MB\n"
     ]
    }
   ],
   "source": [
    "df = pd.read_csv('../scripts/results_summary.csv', index_col=0)\n",
    "df.info()"
   ]
  },
  {
   "cell_type": "code",
   "execution_count": 3,
   "metadata": {},
   "outputs": [],
   "source": [
    "## get rid of 535 + classification results since they are invalid\n",
    "df = df[~(get_535_mask(df) & classification_mask(df))] "
   ]
  },
  {
   "cell_type": "code",
   "execution_count": 4,
   "metadata": {},
   "outputs": [
    {
     "data": {
      "text/html": [
       "<div>\n",
       "<style scoped>\n",
       "    .dataframe tbody tr th:only-of-type {\n",
       "        vertical-align: middle;\n",
       "    }\n",
       "\n",
       "    .dataframe tbody tr th {\n",
       "        vertical-align: top;\n",
       "    }\n",
       "\n",
       "    .dataframe thead th {\n",
       "        text-align: right;\n",
       "    }\n",
       "</style>\n",
       "<table border=\"1\" class=\"dataframe\">\n",
       "  <thead>\n",
       "    <tr style=\"text-align: right;\">\n",
       "      <th></th>\n",
       "      <th>val_scores_00</th>\n",
       "      <th>val_scores_01</th>\n",
       "      <th>val_scores_02</th>\n",
       "      <th>val_scores_03</th>\n",
       "      <th>val_scores_04</th>\n",
       "      <th>val_scores_05</th>\n",
       "      <th>val_scores_06</th>\n",
       "      <th>val_scores_07</th>\n",
       "      <th>val_scores_08</th>\n",
       "      <th>val_scores_09</th>\n",
       "      <th>...</th>\n",
       "      <th>train_scores_30</th>\n",
       "      <th>train_scores_31</th>\n",
       "      <th>train_scores_32</th>\n",
       "      <th>train_scores_33</th>\n",
       "      <th>train_scores_34</th>\n",
       "      <th>train_scores_35</th>\n",
       "      <th>train_scores_36</th>\n",
       "      <th>train_scores_37</th>\n",
       "      <th>train_scores_38</th>\n",
       "      <th>train_scores_39</th>\n",
       "    </tr>\n",
       "  </thead>\n",
       "  <tbody>\n",
       "    <tr>\n",
       "      <th>count</th>\n",
       "      <td>640.000000</td>\n",
       "      <td>645.000000</td>\n",
       "      <td>645.000000</td>\n",
       "      <td>640.000000</td>\n",
       "      <td>642.000000</td>\n",
       "      <td>643.000000</td>\n",
       "      <td>643.000000</td>\n",
       "      <td>642.000000</td>\n",
       "      <td>640.000000</td>\n",
       "      <td>643.000000</td>\n",
       "      <td>...</td>\n",
       "      <td>1816.000000</td>\n",
       "      <td>1822.000000</td>\n",
       "      <td>1818.000000</td>\n",
       "      <td>1817.000000</td>\n",
       "      <td>1814.000000</td>\n",
       "      <td>1817.000000</td>\n",
       "      <td>1816.000000</td>\n",
       "      <td>1818.000000</td>\n",
       "      <td>1820.000000</td>\n",
       "      <td>1808.000000</td>\n",
       "    </tr>\n",
       "    <tr>\n",
       "      <th>mean</th>\n",
       "      <td>0.879092</td>\n",
       "      <td>0.875410</td>\n",
       "      <td>0.876045</td>\n",
       "      <td>0.880273</td>\n",
       "      <td>0.881025</td>\n",
       "      <td>0.876497</td>\n",
       "      <td>0.879895</td>\n",
       "      <td>0.874846</td>\n",
       "      <td>0.876116</td>\n",
       "      <td>0.878513</td>\n",
       "      <td>...</td>\n",
       "      <td>0.787203</td>\n",
       "      <td>0.782600</td>\n",
       "      <td>0.781607</td>\n",
       "      <td>0.784049</td>\n",
       "      <td>0.777483</td>\n",
       "      <td>0.786392</td>\n",
       "      <td>0.784100</td>\n",
       "      <td>0.781584</td>\n",
       "      <td>0.783219</td>\n",
       "      <td>0.787332</td>\n",
       "    </tr>\n",
       "    <tr>\n",
       "      <th>std</th>\n",
       "      <td>0.124107</td>\n",
       "      <td>0.129386</td>\n",
       "      <td>0.125915</td>\n",
       "      <td>0.124530</td>\n",
       "      <td>0.120906</td>\n",
       "      <td>0.123394</td>\n",
       "      <td>0.119610</td>\n",
       "      <td>0.127906</td>\n",
       "      <td>0.130114</td>\n",
       "      <td>0.121386</td>\n",
       "      <td>...</td>\n",
       "      <td>0.200958</td>\n",
       "      <td>0.200359</td>\n",
       "      <td>0.201337</td>\n",
       "      <td>0.200873</td>\n",
       "      <td>0.207605</td>\n",
       "      <td>0.196276</td>\n",
       "      <td>0.200675</td>\n",
       "      <td>0.200602</td>\n",
       "      <td>0.202662</td>\n",
       "      <td>0.198761</td>\n",
       "    </tr>\n",
       "    <tr>\n",
       "      <th>min</th>\n",
       "      <td>0.341129</td>\n",
       "      <td>0.450070</td>\n",
       "      <td>0.456429</td>\n",
       "      <td>0.415378</td>\n",
       "      <td>0.371529</td>\n",
       "      <td>0.447194</td>\n",
       "      <td>0.434309</td>\n",
       "      <td>0.341147</td>\n",
       "      <td>0.292694</td>\n",
       "      <td>0.427145</td>\n",
       "      <td>...</td>\n",
       "      <td>0.000000</td>\n",
       "      <td>0.179230</td>\n",
       "      <td>0.000000</td>\n",
       "      <td>0.000000</td>\n",
       "      <td>0.000000</td>\n",
       "      <td>0.000000</td>\n",
       "      <td>0.000000</td>\n",
       "      <td>0.000000</td>\n",
       "      <td>0.000000</td>\n",
       "      <td>0.125000</td>\n",
       "    </tr>\n",
       "    <tr>\n",
       "      <th>25%</th>\n",
       "      <td>0.847559</td>\n",
       "      <td>0.847339</td>\n",
       "      <td>0.847423</td>\n",
       "      <td>0.847529</td>\n",
       "      <td>0.848244</td>\n",
       "      <td>0.846745</td>\n",
       "      <td>0.845477</td>\n",
       "      <td>0.848407</td>\n",
       "      <td>0.846923</td>\n",
       "      <td>0.847314</td>\n",
       "      <td>...</td>\n",
       "      <td>0.587241</td>\n",
       "      <td>0.561959</td>\n",
       "      <td>0.558304</td>\n",
       "      <td>0.578730</td>\n",
       "      <td>0.538328</td>\n",
       "      <td>0.584320</td>\n",
       "      <td>0.569287</td>\n",
       "      <td>0.564171</td>\n",
       "      <td>0.567057</td>\n",
       "      <td>0.595841</td>\n",
       "    </tr>\n",
       "    <tr>\n",
       "      <th>50%</th>\n",
       "      <td>0.906456</td>\n",
       "      <td>0.914787</td>\n",
       "      <td>0.902782</td>\n",
       "      <td>0.907334</td>\n",
       "      <td>0.910376</td>\n",
       "      <td>0.902130</td>\n",
       "      <td>0.903469</td>\n",
       "      <td>0.903549</td>\n",
       "      <td>0.924490</td>\n",
       "      <td>0.902504</td>\n",
       "      <td>...</td>\n",
       "      <td>0.841112</td>\n",
       "      <td>0.828601</td>\n",
       "      <td>0.831767</td>\n",
       "      <td>0.835198</td>\n",
       "      <td>0.827473</td>\n",
       "      <td>0.837489</td>\n",
       "      <td>0.833508</td>\n",
       "      <td>0.828356</td>\n",
       "      <td>0.834006</td>\n",
       "      <td>0.837294</td>\n",
       "    </tr>\n",
       "    <tr>\n",
       "      <th>75%</th>\n",
       "      <td>0.968102</td>\n",
       "      <td>0.968806</td>\n",
       "      <td>0.968869</td>\n",
       "      <td>0.970098</td>\n",
       "      <td>0.967769</td>\n",
       "      <td>0.967110</td>\n",
       "      <td>0.969144</td>\n",
       "      <td>0.967702</td>\n",
       "      <td>0.967650</td>\n",
       "      <td>0.968740</td>\n",
       "      <td>...</td>\n",
       "      <td>0.974324</td>\n",
       "      <td>0.973626</td>\n",
       "      <td>0.973644</td>\n",
       "      <td>0.973689</td>\n",
       "      <td>0.973778</td>\n",
       "      <td>0.973296</td>\n",
       "      <td>0.973746</td>\n",
       "      <td>0.973470</td>\n",
       "      <td>0.973370</td>\n",
       "      <td>0.974102</td>\n",
       "    </tr>\n",
       "    <tr>\n",
       "      <th>max</th>\n",
       "      <td>0.995054</td>\n",
       "      <td>0.995418</td>\n",
       "      <td>0.995002</td>\n",
       "      <td>0.995048</td>\n",
       "      <td>0.995280</td>\n",
       "      <td>0.996138</td>\n",
       "      <td>0.995044</td>\n",
       "      <td>0.995027</td>\n",
       "      <td>0.995732</td>\n",
       "      <td>0.995345</td>\n",
       "      <td>...</td>\n",
       "      <td>1.000000</td>\n",
       "      <td>1.000000</td>\n",
       "      <td>1.000000</td>\n",
       "      <td>1.000000</td>\n",
       "      <td>1.000000</td>\n",
       "      <td>1.000000</td>\n",
       "      <td>1.000000</td>\n",
       "      <td>1.000000</td>\n",
       "      <td>1.000000</td>\n",
       "      <td>1.000000</td>\n",
       "    </tr>\n",
       "  </tbody>\n",
       "</table>\n",
       "<p>8 rows × 80 columns</p>\n",
       "</div>"
      ],
      "text/plain": [
       "       val_scores_00  val_scores_01  val_scores_02  val_scores_03  \\\n",
       "count     640.000000     645.000000     645.000000     640.000000   \n",
       "mean        0.879092       0.875410       0.876045       0.880273   \n",
       "std         0.124107       0.129386       0.125915       0.124530   \n",
       "min         0.341129       0.450070       0.456429       0.415378   \n",
       "25%         0.847559       0.847339       0.847423       0.847529   \n",
       "50%         0.906456       0.914787       0.902782       0.907334   \n",
       "75%         0.968102       0.968806       0.968869       0.970098   \n",
       "max         0.995054       0.995418       0.995002       0.995048   \n",
       "\n",
       "       val_scores_04  val_scores_05  val_scores_06  val_scores_07  \\\n",
       "count     642.000000     643.000000     643.000000     642.000000   \n",
       "mean        0.881025       0.876497       0.879895       0.874846   \n",
       "std         0.120906       0.123394       0.119610       0.127906   \n",
       "min         0.371529       0.447194       0.434309       0.341147   \n",
       "25%         0.848244       0.846745       0.845477       0.848407   \n",
       "50%         0.910376       0.902130       0.903469       0.903549   \n",
       "75%         0.967769       0.967110       0.969144       0.967702   \n",
       "max         0.995280       0.996138       0.995044       0.995027   \n",
       "\n",
       "       val_scores_08  val_scores_09  ...  train_scores_30  train_scores_31  \\\n",
       "count     640.000000     643.000000  ...      1816.000000      1822.000000   \n",
       "mean        0.876116       0.878513  ...         0.787203         0.782600   \n",
       "std         0.130114       0.121386  ...         0.200958         0.200359   \n",
       "min         0.292694       0.427145  ...         0.000000         0.179230   \n",
       "25%         0.846923       0.847314  ...         0.587241         0.561959   \n",
       "50%         0.924490       0.902504  ...         0.841112         0.828601   \n",
       "75%         0.967650       0.968740  ...         0.974324         0.973626   \n",
       "max         0.995732       0.995345  ...         1.000000         1.000000   \n",
       "\n",
       "       train_scores_32  train_scores_33  train_scores_34  train_scores_35  \\\n",
       "count      1818.000000      1817.000000      1814.000000      1817.000000   \n",
       "mean          0.781607         0.784049         0.777483         0.786392   \n",
       "std           0.201337         0.200873         0.207605         0.196276   \n",
       "min           0.000000         0.000000         0.000000         0.000000   \n",
       "25%           0.558304         0.578730         0.538328         0.584320   \n",
       "50%           0.831767         0.835198         0.827473         0.837489   \n",
       "75%           0.973644         0.973689         0.973778         0.973296   \n",
       "max           1.000000         1.000000         1.000000         1.000000   \n",
       "\n",
       "       train_scores_36  train_scores_37  train_scores_38  train_scores_39  \n",
       "count      1816.000000      1818.000000      1820.000000      1808.000000  \n",
       "mean          0.784100         0.781584         0.783219         0.787332  \n",
       "std           0.200675         0.200602         0.202662         0.198761  \n",
       "min           0.000000         0.000000         0.000000         0.125000  \n",
       "25%           0.569287         0.564171         0.567057         0.595841  \n",
       "50%           0.833508         0.828356         0.834006         0.837294  \n",
       "75%           0.973746         0.973470         0.973370         0.974102  \n",
       "max           1.000000         1.000000         1.000000         1.000000  \n",
       "\n",
       "[8 rows x 80 columns]"
      ]
     },
     "execution_count": 4,
     "metadata": {},
     "output_type": "execute_result"
    }
   ],
   "source": [
    "## Normalise regression scores to get them into the same range as the classification scores.\n",
    "val_scores_cols = get_val_scores_cols(df)\n",
    "train_scores_cols = get_train_scores_cols(df)\n",
    "scores_cols = np.hstack((val_scores_cols, train_scores_cols))\n",
    "\n",
    "x = df[regression_mask(df)][scores_cols]\n",
    "x_min, x_max = -1.0, 1.0 # the range of Pearson's correlation coefficient\n",
    "\n",
    "x = (x - x_min) / (x_max - x_min)\n",
    "\n",
    "df.loc[regression_mask(df), scores_cols] = x\n",
    "df.loc[regression_mask(df), scores_cols].describe()"
   ]
  },
  {
   "cell_type": "markdown",
   "metadata": {},
   "source": [
    "# Data Sets"
   ]
  },
  {
   "cell_type": "code",
   "execution_count": 9,
   "metadata": {
    "scrolled": true
   },
   "outputs": [
    {
     "data": {
      "image/png": "[encoded data removed]",
      "text/plain": [
       "<Figure size 432x288 with 1 Axes>"
      ]
     },
     "metadata": {
      "needs_background": "light"
     },
     "output_type": "display_data"
    }
   ],
   "source": [
    "masks = (df['dataset'] == dataset for dataset in datasets)\n",
    "labels = datasets\n",
    "\n",
    "fig, ax = make_n_way_boxplot(df, True, \n",
    "                  masks, labels, \n",
    "                  'train_scores', \n",
    "                  'Training Scores by Data Set', double_plot=False)\n",
    "\n",
    "ax.set_ylim(-0.1, 1.1)\n",
    "fig.savefig('plots/training_scores_by_data_set.png')"
   ]
  },
  {
   "cell_type": "code",
   "execution_count": 12,
   "metadata": {
    "scrolled": true
   },
   "outputs": [
    {
     "name": "stdout",
     "output_type": "stream",
     "text": [
      "\\begin{tabular}{lr}\n",
      "\\toprule\n",
      "{} &  median\\_train\\_scores \\\\\n",
      "dataset      &                      \\\\\n",
      "\\midrule\n",
      "535          &             0.990033 \\\\\n",
      "encoder      &             0.625000 \\\\\n",
      "iris         &             0.943234 \\\\\n",
      "parity-3-bit &             0.500000 \\\\\n",
      "parity-4-bit &             0.500000 \\\\\n",
      "xor          &             0.500000 \\\\\n",
      "\\bottomrule\n",
      "\\end{tabular}\n",
      "\n"
     ]
    }
   ],
   "source": [
    "print(df.groupby('dataset').median()['median_train_scores'].to_latex())"
   ]
  },
  {
   "cell_type": "markdown",
   "metadata": {},
   "source": [
    "# Adding Noise"
   ]
  },
  {
   "cell_type": "code",
   "execution_count": 25,
   "metadata": {},
   "outputs": [
    {
     "data": {
      "image/png": "[encoded data removed]",
      "text/plain": [
       "<Figure size 432x288 with 1 Axes>"
      ]
     },
     "metadata": {
      "needs_background": "light"
     },
     "output_type": "display_data"
    }
   ],
   "source": [
    "levels_of_noise = list(sorted(df['gaussian_noise'].unique()))\n",
    "\n",
    "masks = [df['gaussian_noise'] == z for z in levels_of_noise]\n",
    "labels = ['gaussian_noise=%.2f' % z for z in levels_of_noise]\n",
    "\n",
    "fig, axes = make_n_way_boxplot(df, iris_mask(df), \n",
    "                             masks, labels, \n",
    "                             'val_scores', \n",
    "                             'Validation Scores for Models Trained on the Iris Dataset\\n'\n",
    "                             ' by Amount of Gaussian Noise', \n",
    "                             double_plot=False)\n",
    "    \n",
    "fig.savefig('plots/validation_scores_by_amount_of_gaussian_noise.png')"
   ]
  },
  {
   "cell_type": "code",
   "execution_count": 21,
   "metadata": {},
   "outputs": [
    {
     "name": "stdout",
     "output_type": "stream",
     "text": [
      "\\begin{tabular}{lr}\n",
      "\\toprule\n",
      "{} &  median\\_val\\_scores \\\\\n",
      "gaussian\\_noise &                    \\\\\n",
      "\\midrule\n",
      "0.00           &           0.942261 \\\\\n",
      "0.01           &           0.939810 \\\\\n",
      "0.10           &           0.933333 \\\\\n",
      "\\bottomrule\n",
      "\\end{tabular}\n",
      "\n"
     ]
    }
   ],
   "source": [
    "print(df.groupby('gaussian_noise').median()['median_val_scores'].to_latex())"
   ]
  },
  {
   "cell_type": "code",
   "execution_count": 27,
   "metadata": {},
   "outputs": [
    {
     "data": {
      "image/png": "[encoded data removed]",
      "text/plain": [
       "<Figure size 432x288 with 1 Axes>"
      ]
     },
     "metadata": {
      "needs_background": "light"
     },
     "output_type": "display_data"
    }
   ],
   "source": [
    "fig, axes = make_n_way_boxplot(df, iris_mask(df), \n",
    "                             masks, labels, \n",
    "                             'n_epochs', \n",
    "                             'Training Duration for Models Trained on the Iris Dataset\\n'\n",
    "                             ' by Amount of Gaussian Noise', \n",
    "                             double_plot=False)\n",
    "    \n",
    "fig.savefig('plots/training_duration_by_amount_of_gaussian_noise.png')"
   ]
  },
  {
   "cell_type": "code",
   "execution_count": 78,
   "metadata": {},
   "outputs": [
    {
     "name": "stdout",
     "output_type": "stream",
     "text": [
      "\\begin{tabular}{rr}\n",
      "\\toprule\n",
      " Gaussian Noise Standard Deviation &  Median Training Duration \\\\\n",
      "\\midrule\n",
      "                              0.00 &                   3488.00 \\\\\n",
      "                              0.01 &                   2437.75 \\\\\n",
      "                              0.10 &                   1610.25 \\\\\n",
      "\\bottomrule\n",
      "\\end{tabular}\n",
      "\n"
     ]
    }
   ],
   "source": [
    "df_iris = df[iris_mask(df)]\n",
    "n_epochs_cols = get_n_epochs_cols(df)\n",
    "\n",
    "median_epochs = []\n",
    "\n",
    "for z in levels_of_noise:\n",
    "    median_epochs.append(df_iris.loc[(df['gaussian_noise'] == z), n_epochs_cols].median().median())\n",
    "    \n",
    "    \n",
    "print(pd.DataFrame({'Gaussian Noise Standard Deviation': levels_of_noise, \n",
    "                    'Median Training Duration': median_epochs}).to_latex(index=False))"
   ]
  }
 ],
 "metadata": {
  "kernelspec": {
   "display_name": "Python 3",
   "language": "python",
   "name": "python3"
  },
  "language_info": {
   "codemirror_mode": {
    "name": "ipython",
    "version": 3
   },
   "file_extension": ".py",
   "mimetype": "text/x-python",
   "name": "python",
   "nbconvert_exporter": "python",
   "pygments_lexer": "ipython3",
   "version": "3.7.2"
  }
 },
 "nbformat": 4,
 "nbformat_minor": 2
}
